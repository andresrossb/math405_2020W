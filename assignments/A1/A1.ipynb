{
 "cells": [
  {
   "cell_type": "markdown",
   "metadata": {},
   "source": [
    "* Before you turn this problem in, make sure everything runs as expected. First, **restart the kernel** (in the menubar, select Kernel$\\rightarrow$Restart) and then **run all cells** (in the menubar, select Cell$\\rightarrow$Run All). Or, alternatively, **Restart & Run All**.\n",
    "\n",
    "* Make sure you fill in any place that says `YOUR CODE HERE` or \"YOUR ANSWER HERE\".\n",
    "\n",
    "* You"
   ]
  },
  {
   "cell_type": "code",
   "execution_count": null,
   "metadata": {},
   "outputs": [],
   "source": [
    "NAME = \"\""
   ]
  },
  {
   "cell_type": "markdown",
   "metadata": {},
   "source": [
    "---"
   ]
  },
  {
   "cell_type": "markdown",
   "metadata": {
    "deletable": false,
    "editable": false,
    "nbgrader": {
     "cell_type": "markdown",
     "checksum": "fbdeee03440c9b32c946a863c7d156db",
     "grade": false,
     "grade_id": "cell-ee3a7657e48f9546",
     "locked": true,
     "schema_version": 3,
     "solution": false,
     "task": false
    }
   },
   "source": [
    "# MATH 405/607 \n",
    "\n",
    "# Numerical Methods for Differential Equations\n",
    "\n",
    "## Assignment 1\n",
    "\n",
    "This assignment contains a review of Taylor's theorem, a bit of floating point arithmetic and some elementary linear algebra and numerical linear algebra. It serves primarily as a warm-up and introduction to using Jupyter notebooks. To install Julia, Jupyter and to learn how to use the notebooks, please look at the `[WS1]` notebook.\n",
    "\n",
    "\n",
    "\n",
    "* **Due date:** Tue 22 September 2020, 1200 noon\n",
    "* 70 points (out of 85) will count at 100%"
   ]
  },
  {
   "cell_type": "code",
   "execution_count": 1,
   "metadata": {
    "deletable": false,
    "editable": false,
    "nbgrader": {
     "cell_type": "code",
     "checksum": "33c13cf615077f2750dae558f3937ee3",
     "grade": false,
     "grade_id": "cell-6fcded2fc78a089d",
     "locked": true,
     "schema_version": 3,
     "solution": false,
     "task": false
    }
   },
   "outputs": [
    {
     "name": "stderr",
     "output_type": "stream",
     "text": [
      "\u001b[32m\u001b[1m Activating\u001b[22m\u001b[39m environment at `C:\\Users\\andre\\OneDrive\\Documents\\GitHub\\math405_2020W\\assignments\\A1\\Project.toml`\n",
      "┌ Info: Precompiling Plots [91a5bcdd-55d7-5caf-9e0b-520d859cae80]\n",
      "└ @ Base loading.jl:1278\n",
      "┌ Info: Precompiling BenchmarkTools [6e4b80f9-dd63-53aa-95a3-0cdb28fa8baf]\n",
      "└ @ Base loading.jl:1278\n"
     ]
    }
   ],
   "source": [
    "include(\"math405.jl\")"
   ]
  },
  {
   "cell_type": "markdown",
   "metadata": {
    "deletable": false,
    "editable": false,
    "nbgrader": {
     "cell_type": "markdown",
     "checksum": "87a1d3cd6d256cbe211bd100098355f1",
     "grade": false,
     "grade_id": "cell-2fd06d570ed5ddcf",
     "locked": true,
     "schema_version": 3,
     "solution": false,
     "task": false
    }
   },
   "source": [
    "### Question 1: [5+5]\n",
    "\n",
    "(a) Let $f : \\mathbb{R} \\to \\mathbb{R}$ be smooth (as often differentiable as needed). Write down the expression for the $n$th degree Taylor polynomial $T_n(x)$ expanded around $0$.\n",
    "\n",
    "(b) Let $R_n(x)$ be the remainder, i.e. $f(x) = T_n(x) + R_n(x)$. Look up the Lagrange form of the remainder as well as the integral form of the remainder and write them down."
   ]
  },
  {
   "cell_type": "markdown",
   "metadata": {
    "deletable": false,
    "nbgrader": {
     "cell_type": "markdown",
     "checksum": "1c4a5f518ad16fca5121429f22c60b4c",
     "grade": true,
     "grade_id": "cell-119c736361478fd3",
     "locked": false,
     "points": 10,
     "schema_version": 3,
     "solution": true,
     "task": false
    }
   },
   "source": [
    "this is my answer"
   ]
  },
  {
   "cell_type": "markdown",
   "metadata": {
    "deletable": false,
    "editable": false,
    "nbgrader": {
     "cell_type": "markdown",
     "checksum": "0fe2b6bf328e865045d644062fe7dbd5",
     "grade": false,
     "grade_id": "cell-ad340e057328addd",
     "locked": true,
     "schema_version": 3,
     "solution": false,
     "task": false
    }
   },
   "source": [
    "### Question 2 [5+5]\n",
    "\n",
    "(a) Consider the centered finite-difference formula \n",
    "$$\n",
    "    \\frac{f(x+h) - f(x-h)}{2h} \\approx f'(x)\n",
    "$$\n",
    "Prove that it is second-order accurate by deriving a sharp error bound in terms of $h$ and $\\|f^{(j)}\\|_\\infty$ where you should determine $j$. \n",
    "\n",
    "(b+) Construct a finite-difference approximation for the third derivative $f'''(x)$. "
   ]
  },
  {
   "cell_type": "markdown",
   "metadata": {
    "deletable": false,
    "nbgrader": {
     "cell_type": "markdown",
     "checksum": "e6b26fd6755539786f4cb295570d34d5",
     "grade": true,
     "grade_id": "cell-4e484d74e3be2204",
     "locked": false,
     "points": 10,
     "schema_version": 3,
     "solution": true,
     "task": false
    }
   },
   "source": [
    "YOUR ANSWER HERE"
   ]
  },
  {
   "cell_type": "markdown",
   "metadata": {
    "deletable": false,
    "editable": false,
    "nbgrader": {
     "cell_type": "markdown",
     "checksum": "98b37cfd87da8c716e837b5407acd75c",
     "grade": false,
     "grade_id": "cell-aab338196ed4b143",
     "locked": true,
     "schema_version": 3,
     "solution": false,
     "task": false
    }
   },
   "source": [
    "### Question 3 [5+5+10]\n",
    "\n",
    "Consider the function $f(x) = \\exp(x)$, evaluated in floating point arithmetic. Suppose we wish to approximate its first derivative $f'(x) = \\exp(x)$ by a finite difference. \n",
    "\n",
    "(a) For the forward difference, a floating point analysis yields \n",
    "$$\n",
    "    {\\rm fl}\\Big[ \\frac{f(x+h) - f(x)}{h} \\Big] = f'(x) + O(h) + O(\\epsilon h^{-1}).\n",
    "$$\n",
    "where $\\epsilon$ is machine precision. Produce a figure or table that clearly demonstrates this behaviour. "
   ]
  },
  {
   "cell_type": "code",
   "execution_count": 1,
   "metadata": {
    "deletable": false,
    "nbgrader": {
     "cell_type": "code",
     "checksum": "ac8deb7c286be39c8e0c1944422e70cc",
     "grade": true,
     "grade_id": "cell-294220ee607d28f8",
     "locked": false,
     "points": 5,
     "schema_version": 3,
     "solution": true,
     "task": false
    }
   },
   "outputs": [
    {
     "ename": "LoadError",
     "evalue": "UndefVarError: plot not defined",
     "output_type": "error",
     "traceback": [
      "UndefVarError: plot not defined",
      "",
      "Stacktrace:",
      " [1] top-level scope at In[1]:5",
      " [2] include_string(::Function, ::Module, ::String, ::String) at .\\loading.jl:1091"
     ]
    }
   ],
   "source": [
    "# YOUR CODE HERE\n",
    "f(x) = exp.(x)\n",
    "f_der(x,h) = (f(x.+h) - f(x)) / h\n",
    "data = [0.1:0.1:5;]\n",
    "plot(f(data))\n",
    "plot!(f_der(data,1))\n",
    "plot!(f_der(data,0.5))\n",
    "plot!(f_der(data,0.1))\n",
    "\n"
   ]
  },
  {
   "cell_type": "code",
   "execution_count": null,
   "metadata": {},
   "outputs": [],
   "source": []
  },
  {
   "cell_type": "markdown",
   "metadata": {
    "deletable": false,
    "editable": false,
    "nbgrader": {
     "cell_type": "markdown",
     "checksum": "f9ef2f7b1f2a9894808639222cb9ad40",
     "grade": false,
     "grade_id": "cell-1f0784bdf7a942b7",
     "locked": true,
     "schema_version": 3,
     "solution": false,
     "task": false
    }
   },
   "source": [
    "Question 3 continued ...\n",
    "\n",
    "(b) For `Float64` precision $\\epsilon \\approx 10^{-16}$ (cf. `eps(Float64)`) How would you choose $h$? How would you choose $h$ for `Float32` precision?\n",
    "\n",
    "(c+) What is the corresponding estimate for the centered difference from Q2a and how does it affect your choice of $h$?"
   ]
  },
  {
   "cell_type": "markdown",
   "metadata": {
    "deletable": false,
    "nbgrader": {
     "cell_type": "markdown",
     "checksum": "b646a28c0875ddee06a5cd017527aa95",
     "grade": true,
     "grade_id": "cell-e18eb7942334c764",
     "locked": false,
     "points": 15,
     "schema_version": 3,
     "solution": true,
     "task": false
    }
   },
   "source": [
    "YOUR ANSWER HERE"
   ]
  },
  {
   "cell_type": "markdown",
   "metadata": {
    "deletable": false,
    "editable": false,
    "nbgrader": {
     "cell_type": "markdown",
     "checksum": "b193d4bf306524a8e3e902fbe3cc6012",
     "grade": false,
     "grade_id": "cell-b13bc18813644137",
     "locked": true,
     "schema_version": 3,
     "solution": false,
     "task": false
    }
   },
   "source": [
    "In all subsequent questions: $\\mathbb{F} \\in \\{ \\mathbb{R}, \\mathbb{C}\\}$.\n",
    "\n",
    "### Question 4 [5]\n",
    "\n",
    "If $A, B \\in \\mathbb{F}^{N \\times N}$ are invertible then $C = AB$ is also invertible and $C^{-1} = B^{-1} A^{-1}$. Check this result numerically, by testing the identity for randomly chosen matrices. As an exception you may use the `inv` command."
   ]
  },
  {
   "cell_type": "code",
   "execution_count": null,
   "metadata": {
    "deletable": false,
    "nbgrader": {
     "cell_type": "code",
     "checksum": "3a8b65c64e398b561e989ed159ef7786",
     "grade": true,
     "grade_id": "cell-adb8679bad7224c2",
     "locked": false,
     "points": 5,
     "schema_version": 3,
     "solution": true,
     "task": false
    }
   },
   "outputs": [],
   "source": [
    "# YOUR CODE HERE"
   ]
  },
  {
   "cell_type": "markdown",
   "metadata": {
    "deletable": false,
    "editable": false,
    "nbgrader": {
     "cell_type": "markdown",
     "checksum": "95df397a8cf6c5f86da037fb0764c8dd",
     "grade": false,
     "grade_id": "cell-2dad2c372bf9982f",
     "locked": true,
     "schema_version": 3,
     "solution": false,
     "task": false
    }
   },
   "source": [
    "### Question 5 [5+5+10]\n",
    "\n",
    "(a) Construct a right-hand side $b$ such that the system \n",
    "$$ \n",
    "   A x = b, \\qquad \\text{where} \\quad \n",
    "   A = \\begin{pmatrix}\n",
    "       2 & 1 & 0 & 2 \\\\ \n",
    "       3 & 1 & 1 & 4 \\\\ \n",
    "       4 & 1 & 2 & 6 \\\\ \n",
    "       5 & 1 & 3 & 8 \n",
    "   \\end{pmatrix}\n",
    "$$\n",
    "has no solution. In the solution cell enter this right-hand side as \n",
    "```julia \n",
    "b = [ # insert elements\n",
    "```\n",
    "\n",
    "(b) For $b = 0$ compute the set of all solutions to the system in (a) (i.e. the null-space of the system matrix). In the solution cell, enter your solution as a matrix\n",
    "```julia \n",
    "N = # enter the definition of the null space \n",
    "```\n",
    "such that the columns `N[:, i]` span the space of all solutions.\n",
    "\n",
    "(c+) For the system that you derived in (a) which has no solution, find the \"regularised least squares solution\" i.e. \n",
    "$$\n",
    "    x = \\arg\\min \\| A x - b \\|^2 + \\|x\\|^2\n",
    "$$\n",
    "In the solution cell, enter this solution as \n",
    "```julia \n",
    "x = # enter the definition of the solution   \n",
    "```"
   ]
  },
  {
   "cell_type": "code",
   "execution_count": null,
   "metadata": {
    "deletable": false,
    "nbgrader": {
     "cell_type": "code",
     "checksum": "2a7afbf9321c3ad1ec9569d6e27002a1",
     "grade": false,
     "grade_id": "cell-cc228c3143f579d4",
     "locked": false,
     "schema_version": 3,
     "solution": true,
     "task": false
    }
   },
   "outputs": [],
   "source": [
    "A = [ 2 1 0 2\n",
    "      3 1 1 4\n",
    "      4 1 2 6\n",
    "      5 1 3 8 ]\n",
    "\n",
    "# YOUR CODE HERE"
   ]
  },
  {
   "cell_type": "code",
   "execution_count": null,
   "metadata": {
    "deletable": false,
    "editable": false,
    "nbgrader": {
     "cell_type": "code",
     "checksum": "697732e41bff6d69a4d2ea8d571cfb38",
     "grade": true,
     "grade_id": "cell-0e2c6e3f1db1838b",
     "locked": true,
     "points": 20,
     "schema_version": 3,
     "solution": false,
     "task": false
    }
   },
   "outputs": [],
   "source": []
  },
  {
   "cell_type": "markdown",
   "metadata": {
    "deletable": false,
    "editable": false,
    "nbgrader": {
     "cell_type": "markdown",
     "checksum": "9e72e1f1bc9e051d0764d4d2412b5eb3",
     "grade": false,
     "grade_id": "cell-83151558c15a9a0d",
     "locked": true,
     "schema_version": 3,
     "solution": false,
     "task": false
    }
   },
   "source": [
    "### Question 6 [5+5]\n",
    "\n",
    "Find out how to use Julia's LU factorisation `lu` with *AND WITHOUT* partial pivoting, and find out how to compute the condition number of a matrix.\n",
    "\n",
    "The codes `system1()` and `system2()` below will produce two linear systems.  Solve them with and without pivoting and comment on your observations. How is the result related to the condition numbers?\n",
    "\n",
    "(5 points for code + 5 points for discussion)"
   ]
  },
  {
   "cell_type": "code",
   "execution_count": null,
   "metadata": {
    "deletable": false,
    "nbgrader": {
     "cell_type": "code",
     "checksum": "634484c94a4257a6313c0d9ae21846ec",
     "grade": true,
     "grade_id": "cell-55aec68999869425",
     "locked": false,
     "points": 5,
     "schema_version": 3,
     "solution": true,
     "task": false
    }
   },
   "outputs": [],
   "source": [
    "Random.seed!(3)\n",
    "\n",
    "system1() = randn(500, 500), randn(500)\n",
    "\n",
    "function system2()\n",
    "    A = randn(500,500)\n",
    "    for n = 1:500\n",
    "        A[n,n] *= 1e-12\n",
    "    end \n",
    "    b = randn(500)\n",
    "    return A, b \n",
    "end\n",
    "\n",
    "# YOUR CODE HERE"
   ]
  },
  {
   "cell_type": "markdown",
   "metadata": {
    "deletable": false,
    "nbgrader": {
     "cell_type": "markdown",
     "checksum": "bfe6360840d7595104f75465eb89728e",
     "grade": true,
     "grade_id": "cell-dadf4f50eba0b90b",
     "locked": false,
     "points": 5,
     "schema_version": 3,
     "solution": true,
     "task": false
    }
   },
   "source": [
    "YOUR ANSWER HERE"
   ]
  },
  {
   "cell_type": "markdown",
   "metadata": {
    "deletable": false,
    "editable": false,
    "nbgrader": {
     "cell_type": "markdown",
     "checksum": "79a800c766dee227e92f4c897844f4c0",
     "grade": false,
     "grade_id": "cell-fba7362a8e59d387",
     "locked": true,
     "schema_version": 3,
     "solution": false,
     "task": false
    }
   },
   "source": [
    "### Question 7 [5+10]\n",
    "\n",
    "The *entropy* (measure of disorder / randomness) for a multivariate Gaussian distribution with covariance $\\Sigma$ is given by \n",
    "$$\n",
    "    S = \\log\\det\\Sigma\n",
    "$$\n",
    "In this question we will come up with an efficient and numerically stable algorithm to compute this.\n",
    "\n",
    "(a+) Observe the result of the following naive simulation and in the cell below explain what you have observed, relating it to properties of `Float64` floating point arithmetic.\n",
    "\n"
   ]
  },
  {
   "cell_type": "code",
   "execution_count": null,
   "metadata": {
    "deletable": false,
    "editable": false,
    "nbgrader": {
     "cell_type": "code",
     "checksum": "6bcfd2340e507b2fb32ffdd555e652c5",
     "grade": false,
     "grade_id": "cell-ed1403c446ab14dd",
     "locked": true,
     "schema_version": 3,
     "solution": false,
     "task": false
    }
   },
   "outputs": [],
   "source": [
    "Random.seed!(0)\n",
    "for N in (2).^(4:10)\n",
    "    A = randn(N, N)  # random matrix\n",
    "    A = A * A'       # symmetric and positive definite \n",
    "    @show log(det(A))\n",
    "end    "
   ]
  },
  {
   "cell_type": "code",
   "execution_count": null,
   "metadata": {},
   "outputs": [],
   "source": [
    "# use this cell to experiment\n"
   ]
  },
  {
   "cell_type": "markdown",
   "metadata": {
    "deletable": false,
    "nbgrader": {
     "cell_type": "markdown",
     "checksum": "69474d78741fcb175baf753788070e1e",
     "grade": true,
     "grade_id": "cell-c84ba081d25f1c5a",
     "locked": false,
     "points": 5,
     "schema_version": 3,
     "solution": true,
     "task": false
    },
    "slideshow": {
     "slide_type": "slide"
    }
   },
   "source": [
    "YOUR ANSWER HERE"
   ]
  },
  {
   "cell_type": "markdown",
   "metadata": {
    "deletable": false,
    "editable": false,
    "nbgrader": {
     "cell_type": "markdown",
     "checksum": "c743c500c0478bbf8abc1b779c687d3d",
     "grade": false,
     "grade_id": "cell-e0b3568f2efc68b6",
     "locked": true,
     "schema_version": 3,
     "solution": false,
     "task": false
    }
   },
   "source": [
    "Question 7 continued ... \n",
    "\n",
    "(b+) Devise an algorithm to evaluate $\\log \\det A$ when $A$ is symmetric and positive definite, which does not suffer from the problem in part (a)."
   ]
  },
  {
   "cell_type": "code",
   "execution_count": null,
   "metadata": {
    "deletable": false,
    "nbgrader": {
     "cell_type": "code",
     "checksum": "c24bb533b7109ea7c81770129373a8c1",
     "grade": false,
     "grade_id": "cell-8e928a8431930662",
     "locked": false,
     "schema_version": 3,
     "solution": true,
     "task": false
    }
   },
   "outputs": [],
   "source": [
    "function mylogdet(A)\n",
    "# YOUR CODE HERE\n",
    "end"
   ]
  },
  {
   "cell_type": "code",
   "execution_count": null,
   "metadata": {
    "deletable": false,
    "editable": false,
    "nbgrader": {
     "cell_type": "code",
     "checksum": "f67436eab08955479bbd2bad7118cc55",
     "grade": true,
     "grade_id": "cell-067350467b42919a",
     "locked": true,
     "points": 5,
     "schema_version": 3,
     "solution": false,
     "task": false
    }
   },
   "outputs": [],
   "source": []
  },
  {
   "cell_type": "markdown",
   "metadata": {
    "deletable": false,
    "editable": false,
    "nbgrader": {
     "cell_type": "markdown",
     "checksum": "b46dd7c22ec3af6f031177aa45bc884e",
     "grade": false,
     "grade_id": "cell-56592db75fdfbf15",
     "locked": true,
     "schema_version": 3,
     "solution": false,
     "task": false
    }
   },
   "source": [
    "When you have completed all tasks, please click on `[Kernel]` and then `[Restart & Run All]` to make sure that your answers reproduce correctly when running from a clean notebook with no hidden variables left over from editing. Once you have convinced yourself that it is all in order, please download and submit the notebook to CANVAS."
   ]
  }
 ],
 "metadata": {
  "@webio": {
   "lastCommId": null,
   "lastKernelId": null
  },
  "kernelspec": {
   "display_name": "Julia 1.5.1",
   "language": "julia",
   "name": "julia-1.5"
  },
  "language_info": {
   "file_extension": ".jl",
   "mimetype": "application/julia",
   "name": "julia",
   "version": "1.5.1"
  },
  "varInspector": {
   "cols": {
    "lenName": 16,
    "lenType": 16,
    "lenVar": 40
   },
   "kernels_config": {
    "python": {
     "delete_cmd_postfix": "",
     "delete_cmd_prefix": "del ",
     "library": "var_list.py",
     "varRefreshCmd": "print(var_dic_list())"
    },
    "r": {
     "delete_cmd_postfix": ") ",
     "delete_cmd_prefix": "rm(",
     "library": "var_list.r",
     "varRefreshCmd": "cat(var_dic_list()) "
    }
   },
   "types_to_exclude": [
    "module",
    "function",
    "builtin_function_or_method",
    "instance",
    "_Feature"
   ],
   "window_display": false
  }
 },
 "nbformat": 4,
 "nbformat_minor": 4
}
